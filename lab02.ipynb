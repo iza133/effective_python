{
 "cells": [
  {
   "cell_type": "markdown",
   "metadata": {},
   "source": [
    "## Lab 02"
   ]
  },
  {
   "cell_type": "markdown",
   "metadata": {},
   "source": [
    "### Zadanie 1"
   ]
  },
  {
   "cell_type": "markdown",
   "metadata": {},
   "source": [
    "Dwa napisy są anagramami, jeśli jesteśmy w stanie w taki sposób poprzestawiać litery w jednym napisie, aby uzyskać drugi (nie możemy żadnej litery się pozbyć ani dodać). Przykładowo:\n",
    "\n",
    "  * abcd i dcba są anagramami\n",
    "  * aba i baa są anagramami\n",
    "  * aba i ba nie są anagramami  \n",
    "\n",
    "Zaimplementuj poniższą funkcja tak, aby sprawdzała czy dwa słowa są anagramamy w iterując po każdym słownie maksymalnie raz."
   ]
  },
  {
   "cell_type": "code",
   "execution_count": 1,
   "metadata": {},
   "outputs": [
    {
     "name": "stdout",
     "output_type": "stream",
     "text": [
      "True\n",
      "True\n",
      "True\n",
      "True\n"
     ]
    }
   ],
   "source": [
    "def check_anagram(first, second):\n",
    "    \"\"\" Sprawdza czy podane wyrazy są anagramami \"\"\"\n",
    "    first = first.replace(\" \", \"\").lower()\n",
    "    second = second.replace(\" \", \"\").lower()\n",
    "    if sorted(first) == sorted(second):\n",
    "        return True\n",
    "    return False\n",
    "\n",
    "print(check_anagram(\"abcd\", \"dcba\") == True)\n",
    "print(check_anagram(\"aba\", \"baa\") == True)\n",
    "print(check_anagram(\"aba\", \"ba\") == False)\n",
    "print(check_anagram(\"tom marvolo riddle \", \"i am lord voldemort\") == True)"
   ]
  },
  {
   "cell_type": "markdown",
   "metadata": {},
   "source": [
    "### Zadanie 2"
   ]
  },
  {
   "cell_type": "code",
   "execution_count": 2,
   "metadata": {},
   "outputs": [
    {
     "name": "stdout",
     "output_type": "stream",
     "text": [
      "True\n",
      "True\n"
     ]
    }
   ],
   "source": [
    "def gaderypoluki(text, key):\n",
    "    \"\"\"\n",
    "    Funkcja powinna szyfrować (lub odszyfrować) tekst szyfrem GADERYPOLUKI (lub podobnym)\n",
    "    https://pl.wikipedia.org/wiki/Gaderypoluki\n",
    "    \"\"\"\n",
    "    \n",
    "    key = key.lower()\n",
    "    text = text.lower()\n",
    "    res = \"\"\n",
    "\n",
    "    for char in text:\n",
    "        if char in key:\n",
    "            index = key.index(char)\n",
    "            if (index%2 ) :\n",
    "                index -= 1\n",
    "            else: \n",
    "                index += 1\n",
    "            res += key[index]\n",
    "        else:\n",
    "            res += char\n",
    "\n",
    "    return res\n",
    "\n",
    "print(gaderypoluki('Ala ma kota', 'GADERYPOLUKI') == 'gug mg iptg')\n",
    "print(gaderypoluki('gug mg iptg', 'GADERYPOLUKI') == 'ala ma kota')"
   ]
  },
  {
   "cell_type": "markdown",
   "metadata": {},
   "source": [
    "### Zadanie 3"
   ]
  },
  {
   "cell_type": "markdown",
   "metadata": {},
   "source": [
    "#### Comprehensions\n",
    "Zapisz każdą z poniższych 4 funkcji w postaci list/dict/set comprehension. Nie należy używać żadnych zmiennych tymczasowych ani dodatkowych linii, każda funkcja ma zostać wyrażona w postaci: <br>\n",
    "```\n",
    "def FUNKCJA(ARGUMENTY):\n",
    "    return COMPREHENSION\n",
    "```"
   ]
  },
  {
   "cell_type": "code",
   "execution_count": 3,
   "metadata": {},
   "outputs": [
    {
     "name": "stdout",
     "output_type": "stream",
     "text": [
      "True\n",
      "True\n",
      "True\n",
      "True\n"
     ]
    }
   ],
   "source": [
    "def even_numbers_from_list(data):\n",
    "    \"\"\"Zwraca podlistę \"data\" zawierającą wyłącznie parzyste liczby\"\"\"\n",
    "    return [i for i in data if (i % 2 == 0)]\n",
    "    \n",
    "\n",
    "print(even_numbers_from_list([1, 2, 3, 4]) == [2, 4])\n",
    "print(even_numbers_from_list(range(10)) == list(range(0, 10, 2)))\n",
    "print(even_numbers_from_list(range(1000)) == list(range(0, 1000, 2)))\n",
    "print(even_numbers_from_list([10, 2, 3, 4, 6, -3, -4]) == [10, 2, 4, 6, -4])"
   ]
  },
  {
   "cell_type": "code",
   "execution_count": 4,
   "metadata": {},
   "outputs": [
    {
     "name": "stdout",
     "output_type": "stream",
     "text": [
      "True\n",
      "True\n"
     ]
    }
   ],
   "source": [
    "def words_analyze(words):\n",
    "    \"\"\"Zwraca listę trójek, gdzie i'ta trójka to (i, i'te słowo, długość i'tego słowa)\"\"\"\n",
    "    return [(i, words[i], len(words[i])) for i in range(len(words))]\n",
    "\n",
    "print(words_analyze(['tomek', 'jadzia']) == [(0, 'tomek', 5), (1, 'jadzia', 6)])\n",
    "print(words_analyze([]) == [])"
   ]
  },
  {
   "cell_type": "code",
   "execution_count": 5,
   "metadata": {},
   "outputs": [
    {
     "name": "stdout",
     "output_type": "stream",
     "text": [
      "True\n",
      "True\n",
      "True\n"
     ]
    }
   ],
   "source": [
    "def count_words_starting_with_given_letter(text, letter):\n",
    "    \"\"\"Zwraca słownik gdzie kluczami są wszystkie słowa występujące w tekście \n",
    "    rozpoczynające się na zadaną literę, a wartością ile razy wystąpiy\"\"\"\n",
    "    return {word: text.split().count(word) for word in text.split() if word.startswith(letter)}\n",
    "\n",
    "print(count_words_starting_with_given_letter('ola ma kota o imieniu ola', 'o') == {'ola': 2, 'o': 1})\n",
    "print(count_words_starting_with_given_letter('ola ma kota o imieniu ola', 'k') == {'kota': 1})\n",
    "print(count_words_starting_with_given_letter('ola ma kota o imieniu ola', 'x') == {})"
   ]
  },
  {
   "cell_type": "markdown",
   "metadata": {},
   "source": [
    "### Zadanie 4"
   ]
  },
  {
   "cell_type": "code",
   "execution_count": 6,
   "metadata": {},
   "outputs": [
    {
     "name": "stdout",
     "output_type": "stream",
     "text": [
      "True\n",
      "True\n",
      "True\n"
     ]
    }
   ],
   "source": [
    "def merge_dicts(a, b, f):\n",
    "    '''\n",
    "    Funkcja przyjmuje:\n",
    "    - dwa słowniki a i b\n",
    "    - dwuargumentową funkcję f\n",
    "    Funkcja jako wynik powinna zwrócić słownik, który będzie sumą dwóch słowników.\n",
    "    Sumę dwóch słowników powinniśmy rozumieć jako słownik, w którym zbiór kluczy będzie równy\n",
    "    sumie zbiorów kluczy ze słowników a i b. Gdy jakiś klucz występuje w obu słownikach, to wartość ma być\n",
    "    wynikiem funkcji f obliczonej na wartościach dla danego klucza w słowniku a i słowniku b\n",
    "    '''\n",
    "    res = {}\n",
    "    for key in a:\n",
    "        if key in b:\n",
    "            res[key] = f(a[key], b[key])\n",
    "        else:\n",
    "            res[key] = a[key]\n",
    "    for key in b:\n",
    "        if key not in a:\n",
    "            res[key] = b[key]\n",
    "    return res\n",
    "\n",
    "def add(a,b):\n",
    "    return a + b\n",
    "\n",
    "print(merge_dicts({'a': 1}, {'b': 1}, add) == {'b': 1, 'a': 1})\n",
    "print(merge_dicts({'a': 1, 'b': 2}, {'b': 1}, add) == {'b': 3, 'a': 1})\n",
    "print(merge_dicts({'a': 1, 'b': 2}, {'b': 1, 'c': 3, 'a': 7}, add) == {'c': 3, 'b': 3, 'a': 8})"
   ]
  },
  {
   "cell_type": "markdown",
   "metadata": {},
   "source": [
    "### Zadanie 5"
   ]
  },
  {
   "cell_type": "markdown",
   "metadata": {},
   "source": [
    "#### _Primes_ ponownie\n",
    "Zaimplementuj funckje z poprzednich ćwiczeń za pomocą _set comperhension_, tak aby cała jej implementacja zmieściła się w jednej linii (jak w powyższych zadaniach)"
   ]
  },
  {
   "cell_type": "code",
   "execution_count": 7,
   "metadata": {},
   "outputs": [
    {
     "name": "stdout",
     "output_type": "stream",
     "text": [
      "True\n",
      "True\n",
      "True\n"
     ]
    }
   ],
   "source": [
    "from math import sqrt\n",
    "\n",
    "def primes(N):\n",
    "    \"\"\"Zwraca zbiór liczb pierwszych od 0 do N włącznie\"\"\"\n",
    "    return set(filter(lambda x: all(x % i != 0 for i in range(2, int(x**0.5) + 1)) and x > 1, range(2, N + 1)))\n",
    "    \n",
    "print(primes(5) == {2, 3, 5})\n",
    "print(primes(10) == {2, 3, 5, 7})\n",
    "print(primes(100) == {2, 3, 5, 7, 11, 13, 17, 19, 23, 29, 31, 37, 41, 43, 47, 53, 59, 61, 67, 71, 73, 79, 83, 89, 97})"
   ]
  },
  {
   "cell_type": "markdown",
   "metadata": {},
   "source": [
    "### Zadanie 6"
   ]
  },
  {
   "cell_type": "markdown",
   "metadata": {},
   "source": [
    "Wykorzystując znieżdzenia generatorów list ([https://www.python.org/dev/peps/pep-0202/](https://www.python.org/dev/peps/pep-0202/))  napisz funkcje, która\n",
    "* wypisze wszystkie pary (x,y) gdzie 0 < x < n oraz 0 < y < n"
   ]
  },
  {
   "cell_type": "code",
   "execution_count": 8,
   "metadata": {},
   "outputs": [],
   "source": [
    "def func1(n):\n",
    "    print([(i, j) for i in range(0, n) for j in range(0,n)])\n",
    "    return [(i, j) for i in range(0, n) for j in range(0,n)]"
   ]
  },
  {
   "cell_type": "code",
   "execution_count": 9,
   "metadata": {},
   "outputs": [
    {
     "name": "stdout",
     "output_type": "stream",
     "text": [
      "[(0, 0), (0, 1), (0, 2), (1, 0), (1, 1), (1, 2), (2, 0), (2, 1), (2, 2)]\n",
      "True\n",
      "[]\n",
      "True\n"
     ]
    }
   ],
   "source": [
    "print(func1(3)==[(0, 0), (0, 1), (0, 2), (1, 0), (1, 1), (1, 2), (2, 0), (2, 1), (2, 2)])\n",
    "print(func1(0)==[])"
   ]
  },
  {
   "cell_type": "markdown",
   "metadata": {},
   "source": [
    "* wypisze tylko takie pary dla których x < y"
   ]
  },
  {
   "cell_type": "code",
   "execution_count": 10,
   "metadata": {},
   "outputs": [],
   "source": [
    "def func2(n):\n",
    "    print( [(i, j) for i in range(0, n) for j in range(0,n) if i < j])\n",
    "    return [(i, j) for i in range(0, n) for j in range(0,n) if i < j]"
   ]
  },
  {
   "cell_type": "code",
   "execution_count": 11,
   "metadata": {},
   "outputs": [
    {
     "name": "stdout",
     "output_type": "stream",
     "text": [
      "[(0, 1), (0, 2), (1, 2)]\n",
      "True\n",
      "[(0, 1), (0, 2), (0, 3), (1, 2), (1, 3), (2, 3)]\n",
      "True\n"
     ]
    }
   ],
   "source": [
    "print(func2(3)==[(0, 1), (0, 2), (1, 2)])\n",
    "print(func2(4)==[(0, 1), (0, 2), (0, 3), (1, 2), (1, 3), (2, 3)])"
   ]
  },
  {
   "cell_type": "markdown",
   "metadata": {},
   "source": [
    "* wypisze tylko takie pary dla których x > y"
   ]
  },
  {
   "cell_type": "code",
   "execution_count": 12,
   "metadata": {},
   "outputs": [],
   "source": [
    "def func3(n):\n",
    "    print([(i, j) for i in range(0, n) for j in range(0,n) if i > j])\n",
    "    return [(i, j) for i in range(0, n) for j in range(0,n) if i > j]"
   ]
  },
  {
   "cell_type": "code",
   "execution_count": 13,
   "metadata": {},
   "outputs": [
    {
     "name": "stdout",
     "output_type": "stream",
     "text": [
      "[(1, 0), (2, 0), (2, 1)]\n",
      "True\n",
      "[(1, 0), (2, 0), (2, 1), (3, 0), (3, 1), (3, 2)]\n",
      "True\n"
     ]
    }
   ],
   "source": [
    "print(func3(3)==[(1, 0), (2, 0), (2, 1)])\n",
    "print(func3(4)==[(1, 0), (2, 0), (2, 1), (3, 0), (3, 1), (3, 2)])"
   ]
  },
  {
   "cell_type": "markdown",
   "metadata": {},
   "source": [
    "### Zadanie 7"
   ]
  },
  {
   "cell_type": "markdown",
   "metadata": {},
   "source": [
    "Napisz funkcję `powerset`, która zwróci listę wszystkich podzbiorów zadanej listy przekazanej jako argument"
   ]
  },
  {
   "cell_type": "code",
   "execution_count": 14,
   "metadata": {},
   "outputs": [],
   "source": [
    "def powerset(x):\n",
    "    sublists = [[]]\n",
    "    for element in x:\n",
    "        helper = sublists.copy()\n",
    "        for el in helper:\n",
    "            sublists.append(el + [element])\n",
    "    return sublists\n",
    "     "
   ]
  },
  {
   "cell_type": "code",
   "execution_count": 15,
   "metadata": {},
   "outputs": [
    {
     "name": "stdout",
     "output_type": "stream",
     "text": [
      "True\n",
      "True\n",
      "True\n"
     ]
    }
   ],
   "source": [
    "print(powerset('abc')==[[], ['a'], ['b'], ['a', 'b'], ['c'], ['a', 'c'], ['b', 'c'], ['a', 'b', 'c']])\n",
    "print(powerset([1, 2, 3])==[[], [1], [2], [1, 2], [3], [1, 3], [2, 3], [1, 2, 3]])\n",
    "print(powerset(['abc', 5, 6])==[[], ['abc'], [5], ['abc', 5], [6], ['abc', 6], [5, 6], ['abc', 5, 6]])"
   ]
  },
  {
   "cell_type": "markdown",
   "metadata": {},
   "source": [
    "### Zadanie 8"
   ]
  },
  {
   "cell_type": "markdown",
   "metadata": {},
   "source": [
    "Napisz funkcję primes jeszcze raz, tym razem jednak nie wolno Ci użyć pętli (`for`, `while`, etc.) i operatorów `>=`, `<=`"
   ]
  },
  {
   "cell_type": "code",
   "execution_count": 16,
   "metadata": {},
   "outputs": [
    {
     "name": "stdout",
     "output_type": "stream",
     "text": [
      "True\n",
      "True\n",
      "True\n"
     ]
    }
   ],
   "source": [
    "def prime(i, d):\n",
    "    if i == d:\n",
    "        return True\n",
    "    if i % d == 0:\n",
    "        return False\n",
    "    return prime(i, d+1)\n",
    "\n",
    "def primes(i, N, returnSet):\n",
    "    if i == N + 1:\n",
    "        return returnSet\n",
    "    if prime(i, 2):\n",
    "        returnSet.add(i)\n",
    "    return primes(i+1, N, returnSet)\n",
    "\n",
    "def primes_extra_b(N):\n",
    "    \"\"\"Zwraca zbiór liczb pierwszych od 0 do N włącznie\"\"\"\n",
    "    return primes(2, N, set())\n",
    "\n",
    "print(primes_extra_b(5) == {2, 3, 5})\n",
    "print(primes_extra_b(10) == {2, 3, 5, 7})\n",
    "print(primes_extra_b(100) == {2, 3, 5, 7, 11, 13, 17, 19, 23, 29, 31, 37, 41, 43, 47, 53, 59, 61, 67, 71, 73, 79, 83, 89, 97})"
   ]
  },
  {
   "cell_type": "code",
   "execution_count": null,
   "metadata": {},
   "outputs": [],
   "source": []
  }
 ],
 "metadata": {
  "kernelspec": {
   "display_name": "Python 3",
   "language": "python",
   "name": "python3"
  },
  "language_info": {
   "codemirror_mode": {
    "name": "ipython",
    "version": 3
   },
   "file_extension": ".py",
   "mimetype": "text/x-python",
   "name": "python",
   "nbconvert_exporter": "python",
   "pygments_lexer": "ipython3",
   "version": "3.11.4"
  }
 },
 "nbformat": 4,
 "nbformat_minor": 2
}
