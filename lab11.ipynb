{
 "cells": [
  {
   "cell_type": "markdown",
   "metadata": {},
   "source": [
    "## Numpy"
   ]
  },
  {
   "cell_type": "code",
   "execution_count": 1,
   "metadata": {
    "collapsed": true
   },
   "outputs": [],
   "source": [
    "import numpy as np"
   ]
  },
  {
   "cell_type": "markdown",
   "metadata": {},
   "source": [
    "### Zadanie 1.\n",
    "\n",
    "Stwórz losową tablicę 10,000 liczb, następnie do każdego elementu dodaj 1. Następnie napisz dokładnie tę samą funkcję używając `numpy` i jego tablic. Porównaj czas działania swoich rozwiązań."
   ]
  },
  {
   "cell_type": "code",
   "execution_count": 2,
   "metadata": {
    "collapsed": true
   },
   "outputs": [
    {
     "name": "stdout",
     "output_type": "stream",
     "text": [
      "Python jest wolniejszy!\n"
     ]
    }
   ],
   "source": [
    "import random\n",
    "import time\n",
    "\n",
    "def arr_python():\n",
    "    normal_arr = [random.random() for _ in range(10000)]\n",
    "    return [x + 1 for x in normal_arr]\n",
    "\n",
    "def arr_numpy():\n",
    "    numpy_arr = np.random.rand(10000)\n",
    "    return np.add(numpy_arr, 1)\n",
    "\n",
    "start_time_python = time.time()\n",
    "result_python = arr_python()\n",
    "end_time_python = time.time()\n",
    "time_python = end_time_python - start_time_python\n",
    "\n",
    "\n",
    "start_time_python = time.time()\n",
    "result_python = arr_numpy()\n",
    "end_time_python = time.time()\n",
    "time_numpy = end_time_python - start_time_python\n",
    "\n",
    "if time_python > time_numpy:\n",
    "    print(\"Python jest wolniejszy!\")\n",
    "else:\n",
    "    print(\"Numpy jest wolniejsze!\")"
   ]
  },
  {
   "cell_type": "markdown",
   "metadata": {},
   "source": [
    "### Zadanie 2.\n",
    "\n",
    "Napisz funkcje obliczajaca $\\sin(x) + \\cos(x)$ dla kazdego elementu tablicy 10,000 losowych liczb używając pętli oraz używając numpy, porownaj ich szybkość podobnie jak w poprzednim zadaniu."
   ]
  },
  {
   "cell_type": "code",
   "execution_count": 3,
   "metadata": {
    "collapsed": true
   },
   "outputs": [
    {
     "name": "stdout",
     "output_type": "stream",
     "text": [
      "Python jest wolniejszy!\n"
     ]
    }
   ],
   "source": [
    "from math import sin, cos\n",
    "\n",
    "\n",
    "def calc_loop(array):\n",
    "    result = []\n",
    "    for x in array:\n",
    "        result.append(sin(x) + cos(x))\n",
    "    return result\n",
    "\n",
    "def calc_numpy(array):\n",
    "    return np.sin(array) + np.cos(array)\n",
    "\n",
    "random_array = np.random.rand(10000)\n",
    "\n",
    "start_time = time.time()\n",
    "result_with_loop = calc_loop(random_array)\n",
    "end_time = time.time()\n",
    "loop_time = end_time - start_time\n",
    "\n",
    "\n",
    "start_time = time.time()\n",
    "result_with_numpy = calc_numpy(random_array)\n",
    "end_time = time.time()\n",
    "numpy_time = end_time - start_time\n",
    "\n",
    "if loop_time > numpy_time:\n",
    "    print(\"Python jest wolniejszy!\")\n",
    "else:\n",
    "    print(\"Numpy jest wolniejsze!\")\n"
   ]
  },
  {
   "cell_type": "markdown",
   "metadata": {},
   "source": [
    "### Zadanie 3.\n",
    "\n",
    "Napisz wydajniejszą forme następujących funkcji. Dopisz do każdej test potwierdzający szybkość zaproponowanego rozwiązania."
   ]
  },
  {
   "cell_type": "code",
   "execution_count": 4,
   "metadata": {
    "collapsed": true
   },
   "outputs": [
    {
     "name": "stdout",
     "output_type": "stream",
     "text": [
      "1, python:  9.799003601074219e-05\n",
      "1, numpy:  9.608268737792969e-05\n",
      "2, python:  0.00017404556274414062\n",
      "2, numpy:  0.00012803077697753906\n"
     ]
    }
   ],
   "source": [
    "def cube_sum(x):\n",
    "    \"\"\"Zwraca sume szescianow elementow\"\"\"\n",
    "    result = 0\n",
    "    for i in range(len(x)):\n",
    "        result += x[i] ** 3\n",
    "    return result\n",
    "\n",
    "def almost_variance(x):\n",
    "    \"\"\"Oblicza 1/n * SUM (x_i - mean(x))^4\"\"\"\n",
    "    m = sum(x) / len(x)\n",
    "    result = 0\n",
    "    for i in range(len(x)):\n",
    "        result += (x[i] - m) ** 4\n",
    "    result /= len(x)\n",
    "    return result\n",
    "\n",
    "def numpy_cube_sum(x):\n",
    "    \"\"\"Zwraca sume szescianow elementow\"\"\"\n",
    "    return np.sum(x ** 3)\n",
    "\n",
    "\n",
    "def numpy_almost_variance(x):\n",
    "    \"\"\"Oblicza 1/n * SUM (x_i - mean(x))^4\"\"\"\n",
    "    n = x.mean()\n",
    "    return np.mean((x - n) ** 4)\n",
    "\n",
    "array = np.random.randint(250, size=250)\n",
    "\n",
    "start = time.time()\n",
    "cube_sum(array)\n",
    "period = time.time() - start\n",
    "print(\"1, python: \", period)\n",
    "\n",
    "start = time.time()\n",
    "numpy_cube_sum(array)\n",
    "period = time.time() - start\n",
    "print(\"1, numpy: \", period)\n",
    "\n",
    "start = time.time()\n",
    "almost_variance(array)\n",
    "period = time.time() - start\n",
    "print(\"2, python: \", period)\n",
    "\n",
    "start = time.time()\n",
    "numpy_almost_variance(array)\n",
    "period = time.time() - start\n",
    "print(\"2, numpy: \", period)"
   ]
  },
  {
   "cell_type": "markdown",
   "metadata": {},
   "source": [
    "### Zadanie 4.\n",
    "\n",
    "Wykorzystujac `broadcasting` (patrz na rysunek poniżej) stwórz tabliczkę mnożenia tzn. tablice $A$ taka, ze $$A_{ij} = i \\cdot j\\;\\;\\;\\;\\; \\forall i,j \\in \\{1,\\dots,10\\}$$\n",
    "\n",
    "Czy potrafisz wykonać to jednym poleceniem, nie używajac przy tym petli/comprehensions?"
   ]
  },
  {
   "cell_type": "markdown",
   "metadata": {},
   "source": [
    "<img src=\"http://www.astroml.org/_images/fig_broadcast_visual_1.png\">"
   ]
  },
  {
   "cell_type": "code",
   "execution_count": 5,
   "metadata": {
    "collapsed": true
   },
   "outputs": [
    {
     "name": "stdout",
     "output_type": "stream",
     "text": [
      "[[  1   2   3   4   5   6   7   8   9  10]\n",
      " [  2   4   6   8  10  12  14  16  18  20]\n",
      " [  3   6   9  12  15  18  21  24  27  30]\n",
      " [  4   8  12  16  20  24  28  32  36  40]\n",
      " [  5  10  15  20  25  30  35  40  45  50]\n",
      " [  6  12  18  24  30  36  42  48  54  60]\n",
      " [  7  14  21  28  35  42  49  56  63  70]\n",
      " [  8  16  24  32  40  48  56  64  72  80]\n",
      " [  9  18  27  36  45  54  63  72  81  90]\n",
      " [ 10  20  30  40  50  60  70  80  90 100]]\n"
     ]
    }
   ],
   "source": [
    "A = np.arange(1, 11).reshape((10, 1)) * np.arange(1,11)\n",
    "print(A)"
   ]
  },
  {
   "cell_type": "markdown",
   "metadata": {},
   "source": [
    "### Zad 5.\n",
    "\n",
    "Wygeneruj losową tablice `10 x 5`, która będzie reprezentować `10` punktów w `5` wymiarowej przestrzeni. Napisz funkcje, która policzy odleglość euklidesową pomiędzy każdą parą punktów, czy potrafisz zrobić to **bez użycia żadnych pętli/comprehensions**? \n",
    "\n",
    "Przypomnienie, dla dwóch wektorów: $x$ i $y$ $$d_{e}(x,y) = \\| x - y \\|^2_2 = \\sum_{i=1}^d (x_i - y_i)^2 $$"
   ]
  },
  {
   "cell_type": "code",
   "execution_count": 6,
   "metadata": {
    "collapsed": true
   },
   "outputs": [
    {
     "name": "stdout",
     "output_type": "stream",
     "text": [
      "[[ 2.37808661  0.89025219 -0.28633856 -0.57562716  1.3539279 ]\n",
      " [-1.01744524  0.35707919 -0.1581419  -0.1428223  -2.41780747]\n",
      " [-1.07324135  1.31738799 -1.06118109 -0.07686858  1.35468123]\n",
      " [-0.62579372  2.08336099  0.50058611  0.06556492 -1.68163787]\n",
      " [-1.05106899 -0.44578857  2.13933227 -1.36310459 -1.70172797]\n",
      " [ 0.74874147 -0.78319448 -0.72989974 -1.37127429 -0.47702306]\n",
      " [-0.28822543 -0.72263845 -0.49945967  0.65686704  1.00479503]\n",
      " [ 1.29654394  0.50744825  0.83235815  0.45440604  0.4941801 ]\n",
      " [ 0.40546116 -0.42801846 -0.03379744 -0.27730883 -0.78603199]\n",
      " [ 0.26380003 -1.90721261 -0.54437636  0.14024482  0.74006054]]\n",
      "[[ 0.    26.244 12.943 20.692 29.385  9.637 11.397  4.368 10.361 13.252]\n",
      " [26.244  0.    15.977  4.153  7.926 10.022 14.168 15.195  5.337 16.97 ]\n",
      " [12.943 15.977  0.    12.466 24.349 12.872  5.754 10.88  10.911 12.878]\n",
      " [20.692  4.153 12.466  0.    11.304 15.136 16.554 11.174  8.576 23.678]\n",
      " [29.385  7.926 24.349 11.304  0.    13.086 19.027 16.253  8.862 19.289]\n",
      " [ 9.637 10.022 12.872 15.136 13.086  0.     7.441  8.683  2.021  5.299]\n",
      " [11.397 14.168  5.754 16.554 19.027  7.441  0.     6.1    4.865  2.047]\n",
      " [ 4.368 15.195 10.88  11.174 16.253  8.683  6.1    0.     4.594  8.952]\n",
      " [10.361  5.337 10.911  8.576  8.862  2.021  4.865  4.594  0.     4.972]\n",
      " [13.252 16.97  12.878 23.678 19.289  5.299  2.047  8.952  4.972  0.   ]]\n"
     ]
    }
   ],
   "source": [
    "def calc_euclidean_distance(arr):\n",
    "    n = arr.shape[0]\n",
    "    res = np.zeros((n, n))\n",
    "\n",
    "    for i in range(n):\n",
    "        for j in range(i + 1, n):\n",
    "            res[i, j] = np.linalg.norm(arr[i, :] - arr[j, :])**2\n",
    "            res[j, i] = res[i, j]\n",
    "    return res\n",
    "\n",
    "tab = np.random.randn(10,5)\n",
    "print (tab)\n",
    "\n",
    "print(np.round(calc_euclidean_distance(tab), decimals=3))"
   ]
  },
  {
   "cell_type": "markdown",
   "metadata": {},
   "source": [
    "### Zad 6.\n",
    "\n",
    "Napisz funkcje do \"wybielania\" zbioru punktow, tj. aplikowania następującej transformacji (ponownie, zrób to bez użycia pętli etc.)\n",
    "$$\n",
    "\\mathrm{white}(X)_{ij} = \\frac{X_{ij} - \\mu_j}{\\sigma_j}\n",
    "$$\n",
    "gdzie $\\mu_j$ to srednia po $j$ej kolumnie, a $\\sigma_j$ to odchylenie standardowe po tej kolumnie, np.\n",
    "\n",
    "$$\n",
    "\\mathrm{white}\\left ( \\left [ \\begin{matrix} \n",
    "0& 1\\\\\n",
    "2& 3\\\\\n",
    "4& 5\\\\\n",
    "6& 7\\\\\n",
    "8& 9\n",
    "\\end{matrix} \\right ] \\right ) = \n",
    "\\left [ \\begin{matrix} \n",
    "-1.41421356& -1.41421356\\\\\n",
    "-0.70710678& -0.70710678\\\\\n",
    "0.        &  0.        \\\\\n",
    "0.70710678&  0.70710678\\\\\n",
    "1.41421356&  1.41421356\n",
    "\\end{matrix} \\right ]\n",
    "$$\n",
    "\n",
    "W szczególności średnia po poszczególnych kolumnach nowej macierzy powinna wynosić `0` a odchylenie standardowe `1`."
   ]
  },
  {
   "cell_type": "code",
   "execution_count": 7,
   "metadata": {
    "collapsed": true
   },
   "outputs": [
    {
     "name": "stdout",
     "output_type": "stream",
     "text": [
      "[[-1.41421356 -1.41421356]\n",
      " [-0.70710678 -0.70710678]\n",
      " [ 0.          0.        ]\n",
      " [ 0.70710678  0.70710678]\n",
      " [ 1.41421356  1.41421356]]\n"
     ]
    }
   ],
   "source": [
    "def white(A):\n",
    "    return (A - np.mean(A, axis=0))/ np.std(A, axis=0)\n",
    "\n",
    "\n",
    "print(white(np.array([[0, 1], [2, 3], [4, 5], [6, 7], [8, 9]])))"
   ]
  },
  {
   "cell_type": "markdown",
   "metadata": {},
   "source": [
    "### Zad 7.\n",
    "\n",
    "Majac dana tablice dowolnie wymiarowa (dla uproszczenia mozesz przyjac ze jedno lub dwu) oraz liczbe `x` znajdz najblizsza wartosc `x` w `A`, tzn. \n",
    "\n",
    "$$\n",
    "\\mathrm{closest}(x, A) = \\arg\\min_{a\\in A}| x - a| \n",
    "$$\n",
    "\n",
    "np. \n",
    "\n",
    "$$\n",
    "\\mathrm{closest}(1.5, [1, -4, 3]) = 1\n",
    "$$\n",
    "\n",
    "Ponownie, czy potrafisz zrobic to bez petli, etc.?\n"
   ]
  },
  {
   "cell_type": "code",
   "execution_count": 8,
   "metadata": {
    "collapsed": true
   },
   "outputs": [
    {
     "name": "stdout",
     "output_type": "stream",
     "text": [
      "7\n"
     ]
    }
   ],
   "source": [
    "def closest(x, A):\n",
    "    idx = (np.abs(A - x)).argmin()\n",
    "    return A[idx]\n",
    "\n",
    "A = np.array([2,3,4,7,10,1,0])\n",
    "\n",
    "print(closest(7.1, A))"
   ]
  },
  {
   "cell_type": "markdown",
   "metadata": {},
   "source": [
    "### Zad 8.\n",
    "\n",
    "Zaimplementuj proste liczenie wartosci wielomianu o zadanych wspolczynnikach (analogie `np.poly1d`), czyli funkcje\n",
    "\n",
    "$$\n",
    "\\mathrm{poly}(x, a) = a_0 + a_1 x + a_2 x^2 + \\dots + a_k x^k = \\sum_{i=1}^k a_i x^i\n",
    "$$\n",
    "\n",
    "Czy potrafisz zrobic to jednolinijkowo bez uzycia petli, etc. (oraz oczywiście `np.poly1d`). \n",
    "Może Ci się przydać metoda `cumprod`."
   ]
  },
  {
   "cell_type": "code",
   "execution_count": 9,
   "metadata": {},
   "outputs": [
    {
     "name": "stdout",
     "output_type": "stream",
     "text": [
      "55.0\n",
      "-44.0\n",
      "-11.0\n",
      "5.0\n",
      "93.0\n"
     ]
    }
   ],
   "source": [
    "def poly(x, a):\n",
    "    poly = np.ones(len(a)) + x - 1\n",
    "    poly = np.cumprod(poly)\n",
    "    poly = [el*poly_el for el, poly_el in zip(a[1::], poly)]\n",
    "    return sum(poly) + a[0]\n",
    "\n",
    "print(poly(1, [1, 2, 3, 4, 5, 6, 7, 8, 9, 10])) #55\n",
    "print(poly(2, [4, -2, 1, 0, -3])) #-44\n",
    "print(poly(3, [7, 0, -2])) #-11\n",
    "print(poly(4, [5, 0, 0, 0, 0])) #5\n",
    "print(poly(5, [3, 3, 3])) #93"
   ]
  },
  {
   "cell_type": "markdown",
   "metadata": {},
   "source": [
    "## Obrazki"
   ]
  },
  {
   "cell_type": "code",
   "execution_count": null,
   "metadata": {},
   "outputs": [],
   "source": []
  },
  {
   "cell_type": "markdown",
   "metadata": {},
   "source": [
    "Do wyświetlania obrazków w notebooku potrzebny będzie `matplotlib`. W PyCharmie można użyć `imshow` z biblioteki `scipy`."
   ]
  },
  {
   "cell_type": "code",
   "execution_count": 10,
   "metadata": {},
   "outputs": [],
   "source": [
    "%matplotlib inline\n",
    "import matplotlib.pyplot as plt\n",
    "import matplotlib.image as mpimg"
   ]
  },
  {
   "cell_type": "code",
   "execution_count": 11,
   "metadata": {},
   "outputs": [
    {
     "data": {
      "image/png": "[encoded data removed]",
      "text/plain": [
       "<Figure size 640x480 with 1 Axes>"
      ]
     },
     "metadata": {},
     "output_type": "display_data"
    }
   ],
   "source": [
    "img = mpimg.imread('images/django.png')\n",
    "plt.imshow(img);"
   ]
  },
  {
   "cell_type": "code",
   "execution_count": null,
   "metadata": {},
   "outputs": [],
   "source": []
  },
  {
   "cell_type": "markdown",
   "metadata": {},
   "source": [
    "### Zad 9.\n",
    "\n",
    "Napisz funckje do przetwarzania obrazu do skali szarości wg wzoru:\n",
    "\n",
    "$$ 0.2126 \\times R + 0.7152 \\times  G + 0.0722 \\times B $$"
   ]
  },
  {
   "cell_type": "code",
   "execution_count": 12,
   "metadata": {
    "collapsed": true
   },
   "outputs": [
    {
     "data": {
      "text/plain": [
       "<matplotlib.image.AxesImage at 0x11282a950>"
      ]
     },
     "execution_count": 12,
     "metadata": {},
     "output_type": "execute_result"
    },
    {
     "data": {
      "image/png": "[encoded data removed]",
      "text/plain": [
       "<Figure size 640x480 with 1 Axes>"
      ]
     },
     "metadata": {},
     "output_type": "display_data"
    }
   ],
   "source": [
    "def to_gray(image):\n",
    "    R = image[:,:,0]\n",
    "    G = image[:,:,1]\n",
    "    B = image[:,:,2]\n",
    "    return 0.2126 * R + 0.7152 * G + 0.0722 * B\n",
    "\n",
    "img = to_gray(img)\n",
    "plt.imshow(img, cmap=('gray'))"
   ]
  },
  {
   "cell_type": "markdown",
   "metadata": {},
   "source": [
    "### Zadanie 10.\n",
    "\n",
    "Wyłącznie za pomocą metod numpy napisz kod do interpolacji liniowej pomiędzy parą punktów (dowolnej wymiarowości) wg wzoru:\n",
    "\n",
    "$$ x_i = \\lambda x_1 + (1 - \\lambda) x_2$$\n",
    "\n",
    "Kod powinien od razu generować interpolacje dla wielu wartości $\\lambda$, np dla 10 różnych $\\lambda \\in \\{0, 0.1, 0.2, \\dots, 1\\}$"
   ]
  },
  {
   "cell_type": "code",
   "execution_count": 13,
   "metadata": {
    "collapsed": true
   },
   "outputs": [
    {
     "name": "stdout",
     "output_type": "stream",
     "text": [
      "[[6.        ]\n",
      " [5.55555556]\n",
      " [5.11111111]\n",
      " [4.66666667]\n",
      " [4.22222222]\n",
      " [3.77777778]\n",
      " [3.33333333]\n",
      " [2.88888889]\n",
      " [2.44444444]\n",
      " [2.        ]]\n"
     ]
    }
   ],
   "source": [
    "def interpolate(x1, x2):\n",
    "    lambd = np.linspace(0, 1, 10).reshape(10, 1)\n",
    "    return (lambd * x1 + (1 - lambd) * x2)\n",
    "\n",
    "\n",
    "print(interpolate(2, 6))"
   ]
  }
 ],
 "metadata": {
  "kernelspec": {
   "display_name": "Python 3",
   "language": "python",
   "name": "python3"
  },
  "language_info": {
   "codemirror_mode": {
    "name": "ipython",
    "version": 3
   },
   "file_extension": ".py",
   "mimetype": "text/x-python",
   "name": "python",
   "nbconvert_exporter": "python",
   "pygments_lexer": "ipython3",
   "version": "3.11.4"
  }
 },
 "nbformat": 4,
 "nbformat_minor": 1
}
