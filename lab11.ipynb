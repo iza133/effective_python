{
 "cells": [
  {
   "cell_type": "markdown",
   "metadata": {},
   "source": [
    "## Numpy"
   ]
  },
  {
   "cell_type": "code",
   "execution_count": 1,
   "metadata": {
    "collapsed": true
   },
   "outputs": [],
   "source": [
    "import numpy as np"
   ]
  },
  {
   "cell_type": "markdown",
   "metadata": {},
   "source": [
    "### Zadanie 1.\n",
    "\n",
    "Stwórz losową tablicę 10,000 liczb, następnie do każdego elementu dodaj 1. Następnie napisz dokładnie tę samą funkcję używając `numpy` i jego tablic. Porównaj czas działania swoich rozwiązań."
   ]
  },
  {
   "cell_type": "code",
   "execution_count": 2,
   "metadata": {
    "collapsed": true
   },
   "outputs": [
    {
     "name": "stdout",
     "output_type": "stream",
     "text": [
      "Python jest wolniejszy!\n"
     ]
    }
   ],
   "source": [
    "import random\n",
    "import time\n",
    "\n",
    "def arr_python():\n",
    "    normal_arr = [random.random() for _ in range(10000)]\n",
    "    return [x + 1 for x in normal_arr]\n",
    "\n",
    "def arr_numpy():\n",
    "    numpy_arr = np.random.rand(10000)\n",
    "    return np.add(numpy_arr, 1)\n",
    "\n",
    "start_time_python = time.time()\n",
    "result_python = arr_python()\n",
    "end_time_python = time.time()\n",
    "time_python = end_time_python - start_time_python\n",
    "\n",
    "\n",
    "start_time_python = time.time()\n",
    "result_python = arr_numpy()\n",
    "end_time_python = time.time()\n",
    "time_numpy = end_time_python - start_time_python\n",
    "\n",
    "if time_python > time_numpy:\n",
    "    print(\"Python jest wolniejszy!\")\n",
    "else:\n",
    "    print(\"Numpy jest wolniejsze!\")"
   ]
  },
  {
   "cell_type": "markdown",
   "metadata": {},
   "source": [
    "### Zadanie 2.\n",
    "\n",
    "Napisz funkcje obliczajaca $\\sin(x) + \\cos(x)$ dla kazdego elementu tablicy 10,000 losowych liczb używając pętli oraz używając numpy, porownaj ich szybkość podobnie jak w poprzednim zadaniu."
   ]
  },
  {
   "cell_type": "code",
   "execution_count": 3,
   "metadata": {
    "collapsed": true
   },
   "outputs": [
    {
     "name": "stdout",
     "output_type": "stream",
     "text": [
      "Python jest wolniejszy!\n"
     ]
    }
   ],
   "source": [
    "from math import sin, cos\n",
    "\n",
    "\n",
    "def calc_loop(array):\n",
    "    result = []\n",
    "    for x in array:\n",
    "        result.append(sin(x) + cos(x))\n",
    "    return result\n",
    "\n",
    "def calc_numpy(array):\n",
    "    return np.sin(array) + np.cos(array)\n",
    "\n",
    "random_array = np.random.rand(10000)\n",
    "\n",
    "start_time = time.time()\n",
    "result_with_loop = calc_loop(random_array)\n",
    "end_time = time.time()\n",
    "loop_time = end_time - start_time\n",
    "\n",
    "\n",
    "start_time = time.time()\n",
    "result_with_numpy = calc_numpy(random_array)\n",
    "end_time = time.time()\n",
    "numpy_time = end_time - start_time\n",
    "\n",
    "if loop_time > numpy_time:\n",
    "    print(\"Python jest wolniejszy!\")\n",
    "else:\n",
    "    print(\"Numpy jest wolniejsze!\")\n"
   ]
  },
  {
   "cell_type": "markdown",
   "metadata": {},
   "source": [
    "### Zadanie 3.\n",
    "\n",
    "Napisz wydajniejszą forme następujących funkcji. Dopisz do każdej test potwierdzający szybkość zaproponowanego rozwiązania."
   ]
  },
  {
   "cell_type": "code",
   "execution_count": 5,
   "metadata": {
    "collapsed": true
   },
   "outputs": [
    {
     "name": "stdout",
     "output_type": "stream",
     "text": [
      "1, python:  7.390975952148438e-05\n",
      "1, numpy:  0.0001010894775390625\n",
      "2, python:  0.0001418590545654297\n",
      "2, numpy:  0.00010991096496582031\n"
     ]
    }
   ],
   "source": [
    "def cube_sum(x):\n",
    "    \"\"\"Zwraca sume szescianow elementow\"\"\"\n",
    "    result = 0\n",
    "    for i in range(len(x)):\n",
    "        result += x[i] ** 3\n",
    "    return result\n",
    "\n",
    "def almost_variance(x):\n",
    "    \"\"\"Oblicza 1/n * SUM (x_i - mean(x))^4\"\"\"\n",
    "    m = sum(x) / len(x)\n",
    "    result = 0\n",
    "    for i in range(len(x)):\n",
    "        result += (x[i] - m) ** 4\n",
    "    result /= len(x)\n",
    "    return result\n",
    "\n",
    "def numpy_cube_sum(x):\n",
    "    \"\"\"Zwraca sume szescianow elementow\"\"\"\n",
    "    return np.sum(x ** 3)\n",
    "\n",
    "\n",
    "def numpy_almost_variance(x):\n",
    "    \"\"\"Oblicza 1/n * SUM (x_i - mean(x))^4\"\"\"\n",
    "    n = x.mean()\n",
    "    return np.mean((x - n) ** 4)\n",
    "\n",
    "array = np.random.randint(250, size=250)\n",
    "\n",
    "start = time.time()\n",
    "cube_sum(array)\n",
    "period = time.time() - start\n",
    "print(\"1, python: \", period)\n",
    "\n",
    "start = time.time()\n",
    "numpy_cube_sum(array)\n",
    "period = time.time() - start\n",
    "print(\"1, numpy: \", period)\n",
    "\n",
    "start = time.time()\n",
    "almost_variance(array)\n",
    "period = time.time() - start\n",
    "print(\"2, python: \", period)\n",
    "\n",
    "start = time.time()\n",
    "numpy_almost_variance(array)\n",
    "period = time.time() - start\n",
    "print(\"2, numpy: \", period)"
   ]
  },
  {
   "cell_type": "markdown",
   "metadata": {},
   "source": [
    "### Zadanie 4.\n",
    "\n",
    "Wykorzystujac `broadcasting` (patrz na rysunek poniżej) stwórz tabliczkę mnożenia tzn. tablice $A$ taka, ze $$A_{ij} = i \\cdot j\\;\\;\\;\\;\\; \\forall i,j \\in \\{1,\\dots,10\\}$$\n",
    "\n",
    "Czy potrafisz wykonać to jednym poleceniem, nie używajac przy tym petli/comprehensions?"
   ]
  },
  {
   "cell_type": "markdown",
   "metadata": {},
   "source": [
    "<img src=\"http://www.astroml.org/_images/fig_broadcast_visual_1.png\">"
   ]
  },
  {
   "cell_type": "code",
   "execution_count": 6,
   "metadata": {
    "collapsed": true
   },
   "outputs": [
    {
     "name": "stdout",
     "output_type": "stream",
     "text": [
      "[[  1   2   3   4   5   6   7   8   9  10]\n",
      " [  2   4   6   8  10  12  14  16  18  20]\n",
      " [  3   6   9  12  15  18  21  24  27  30]\n",
      " [  4   8  12  16  20  24  28  32  36  40]\n",
      " [  5  10  15  20  25  30  35  40  45  50]\n",
      " [  6  12  18  24  30  36  42  48  54  60]\n",
      " [  7  14  21  28  35  42  49  56  63  70]\n",
      " [  8  16  24  32  40  48  56  64  72  80]\n",
      " [  9  18  27  36  45  54  63  72  81  90]\n",
      " [ 10  20  30  40  50  60  70  80  90 100]]\n"
     ]
    }
   ],
   "source": [
    "A = np.arange(1, 11).reshape((10, 1)) * np.arange(1,11)\n",
    "print(A)"
   ]
  },
  {
   "cell_type": "markdown",
   "metadata": {},
   "source": [
    "### Zad 5.\n",
    "\n",
    "Wygeneruj losową tablice `10 x 5`, która będzie reprezentować `10` punktów w `5` wymiarowej przestrzeni. Napisz funkcje, która policzy odleglość euklidesową pomiędzy każdą parą punktów, czy potrafisz zrobić to **bez użycia żadnych pętli/comprehensions**? \n",
    "\n",
    "Przypomnienie, dla dwóch wektorów: $x$ i $y$ $$d_{e}(x,y) = \\| x - y \\|^2_2 = \\sum_{i=1}^d (x_i - y_i)^2 $$"
   ]
  },
  {
   "cell_type": "code",
   "execution_count": 11,
   "metadata": {
    "collapsed": true
   },
   "outputs": [
    {
     "name": "stdout",
     "output_type": "stream",
     "text": [
      "[[ 4.07783893e-01  1.83904001e+00  1.42540825e+00  1.16985264e+00\n",
      "  -5.18134488e-01]\n",
      " [ 5.27932730e-02 -8.26571405e-01 -1.13626443e-01 -2.00687533e-01\n",
      "   3.85121892e-01]\n",
      " [ 5.24069825e-01 -1.23570584e+00  3.64711586e-01  2.34750640e-01\n",
      "  -2.17840515e-02]\n",
      " [ 1.13336696e+00 -1.09770210e+00 -5.96869816e-01 -8.40929737e-01\n",
      "   1.78668887e+00]\n",
      " [-1.54648925e+00  9.53787938e-05 -1.79618649e+00 -2.15565107e+00\n",
      "  -4.14731712e-01]\n",
      " [-4.97940651e-01 -2.15071560e+00  1.55688476e-02 -2.66118008e+00\n",
      "  -5.78687063e-01]\n",
      " [ 6.44707816e-01 -3.37162029e-01 -2.79879465e-03 -3.50957360e-01\n",
      "   6.40389681e-01]\n",
      " [-1.05934180e+00  1.48514737e-01 -2.36584753e-01  3.01821160e-01\n",
      "   2.51758257e+00]\n",
      " [-1.73447842e-01 -9.44539164e-01  6.83939060e-01  4.11245530e-01\n",
      "   1.78886369e-01]\n",
      " [-4.49479762e-01 -1.06209454e+00 -8.59099634e-01  7.13655968e-01\n",
      "  -1.05670166e+00]]\n",
      "[[ 0.    12.294 11.713 22.596 28.649 33.407 10.487 17.742  9.697 14.869]\n",
      " [12.294  0.     0.973  3.849 10.534  9.056  0.69   7.003  1.118  3.778]\n",
      " [11.713  0.973  0.     5.743 16.352 10.7    1.739 11.238  0.745  3.776]\n",
      " [22.596  3.849  5.743  0.    16.4   13.053  2.724  8.331  7.525 13.077]\n",
      " [28.649 10.534 16.352 16.4    0.     9.29  12.502 17.329 15.87  11.855]\n",
      " [33.407  9.056 10.7   13.053  9.29   0.    11.418 24.031 12.021 13.571]\n",
      " [10.487  0.69   1.739  2.724 12.502 11.418  0.     7.144  2.304  6.47 ]\n",
      " [17.742  7.003 11.238  8.331 17.329 24.031  7.144  0.     8.308 15.17 ]\n",
      " [ 9.697  1.118  0.745  7.525 15.87  12.021  2.304  8.308  0.     4.089]\n",
      " [14.869  3.778  3.776 13.077 11.855 13.571  6.47  15.17   4.089  0.   ]]\n"
     ]
    }
   ],
   "source": [
    "def calc_euclidean_distance(arr):\n",
    "    n = arr.shape[0]\n",
    "    res = np.zeros((n, n))\n",
    "\n",
    "    for i in range(n):\n",
    "        for j in range(i + 1, n):\n",
    "            res[i, j] = np.linalg.norm(arr[i, :] - arr[j, :])**2\n",
    "            res[j, i] = res[i, j]\n",
    "    return res\n",
    "\n",
    "tab = np.random.randn(10,5)\n",
    "print (tab)\n",
    "\n",
    "print(np.round(calc_euclidean_distance(tab), decimals=3))"
   ]
  },
  {
   "cell_type": "markdown",
   "metadata": {},
   "source": [
    "### Zad 6.\n",
    "\n",
    "Napisz funkcje do \"wybielania\" zbioru punktow, tj. aplikowania następującej transformacji (ponownie, zrób to bez użycia pętli etc.)\n",
    "$$\n",
    "\\mathrm{white}(X)_{ij} = \\frac{X_{ij} - \\mu_j}{\\sigma_j}\n",
    "$$\n",
    "gdzie $\\mu_j$ to srednia po $j$ej kolumnie, a $\\sigma_j$ to odchylenie standardowe po tej kolumnie, np.\n",
    "\n",
    "$$\n",
    "\\mathrm{white}\\left ( \\left [ \\begin{matrix} \n",
    "0& 1\\\\\n",
    "2& 3\\\\\n",
    "4& 5\\\\\n",
    "6& 7\\\\\n",
    "8& 9\n",
    "\\end{matrix} \\right ] \\right ) = \n",
    "\\left [ \\begin{matrix} \n",
    "-1.41421356& -1.41421356\\\\\n",
    "-0.70710678& -0.70710678\\\\\n",
    "0.        &  0.        \\\\\n",
    "0.70710678&  0.70710678\\\\\n",
    "1.41421356&  1.41421356\n",
    "\\end{matrix} \\right ]\n",
    "$$\n",
    "\n",
    "W szczególności średnia po poszczególnych kolumnach nowej macierzy powinna wynosić `0` a odchylenie standardowe `1`."
   ]
  },
  {
   "cell_type": "code",
   "execution_count": null,
   "metadata": {
    "collapsed": true
   },
   "outputs": [],
   "source": []
  },
  {
   "cell_type": "markdown",
   "metadata": {},
   "source": [
    "### Zad 7.\n",
    "\n",
    "Majac dana tablice dowolnie wymiarowa (dla uproszczenia mozesz przyjac ze jedno lub dwu) oraz liczbe `x` znajdz najblizsza wartosc `x` w `A`, tzn. \n",
    "\n",
    "$$\n",
    "\\mathrm{closest}(x, A) = \\arg\\min_{a\\in A}| x - a| \n",
    "$$\n",
    "\n",
    "np. \n",
    "\n",
    "$$\n",
    "\\mathrm{closest}(1.5, [1, -4, 3]) = 1\n",
    "$$\n",
    "\n",
    "Ponownie, czy potrafisz zrobic to bez petli, etc.?\n"
   ]
  },
  {
   "cell_type": "code",
   "execution_count": null,
   "metadata": {
    "collapsed": true
   },
   "outputs": [],
   "source": []
  },
  {
   "cell_type": "markdown",
   "metadata": {},
   "source": [
    "### Zad 8.\n",
    "\n",
    "Zaimplementuj proste liczenie wartosci wielomianu o zadanych wspolczynnikach (analogie `np.poly1d`), czyli funkcje\n",
    "\n",
    "$$\n",
    "\\mathrm{poly}(x, a) = a_0 + a_1 x + a_2 x^2 + \\dots + a_k x^k = \\sum_{i=1}^k a_i x^i\n",
    "$$\n",
    "\n",
    "Czy potrafisz zrobic to jednolinijkowo bez uzycia petli, etc. (oraz oczywiście `np.poly1d`). \n",
    "Może Ci się przydać metoda `cumprod`."
   ]
  },
  {
   "cell_type": "markdown",
   "metadata": {},
   "source": [
    "## Obrazki"
   ]
  },
  {
   "cell_type": "markdown",
   "metadata": {},
   "source": [
    "Do wyświetlania obrazków w notebooku potrzebny będzie `matplotlib`. W PyCharmie można użyć `imshow` z biblioteki `scipy`."
   ]
  },
  {
   "cell_type": "code",
   "execution_count": null,
   "metadata": {},
   "outputs": [],
   "source": [
    "%matplotlib inline\n",
    "import matplotlib.pyplot as plt\n",
    "import matplotlib.image as mpimg"
   ]
  },
  {
   "cell_type": "code",
   "execution_count": null,
   "metadata": {},
   "outputs": [],
   "source": [
    "img = mpimg.imread('images/doggo.png')\n",
    "plt.imshow(img);"
   ]
  },
  {
   "cell_type": "markdown",
   "metadata": {},
   "source": [
    "### Zad 9.\n",
    "\n",
    "Napisz funckje do przetwarzania obrazu do skali szarości wg wzoru:\n",
    "\n",
    "$$ 0.2126 \\times R + 0.7152 \\times  G + 0.0722 \\times B $$"
   ]
  },
  {
   "cell_type": "code",
   "execution_count": null,
   "metadata": {
    "collapsed": true
   },
   "outputs": [],
   "source": []
  },
  {
   "cell_type": "markdown",
   "metadata": {},
   "source": [
    "### Zadanie 10.\n",
    "\n",
    "Wyłącznie za pomocą metod numpy napisz kod do interpolacji liniowej pomiędzy parą punktów (dowolnej wymiarowości) wg wzoru:\n",
    "\n",
    "$$ x_i = \\lambda x_1 + (1 - \\lambda) x_2$$\n",
    "\n",
    "Kod powinien od razu generować interpolacje dla wielu wartości $\\lambda$, np dla 10 różnych $\\lambda \\in \\{0, 0.1, 0.2, \\dots, 1\\}$"
   ]
  },
  {
   "cell_type": "code",
   "execution_count": null,
   "metadata": {
    "collapsed": true
   },
   "outputs": [],
   "source": []
  }
 ],
 "metadata": {
  "kernelspec": {
   "display_name": "Python 3",
   "language": "python",
   "name": "python3"
  },
  "language_info": {
   "codemirror_mode": {
    "name": "ipython",
    "version": 3
   },
   "file_extension": ".py",
   "mimetype": "text/x-python",
   "name": "python",
   "nbconvert_exporter": "python",
   "pygments_lexer": "ipython3",
   "version": "3.11.4"
  }
 },
 "nbformat": 4,
 "nbformat_minor": 1
}
