{
 "cells": [
  {
   "cell_type": "markdown",
   "metadata": {},
   "source": [
    "## Zadanie 21 (hard)\n",
    "\n",
    "Wykonaj wykres 3D funkcji\n",
    "$$\n",
    "z = x^2-y^2\n",
    "$$\n",
    "\n",
    "oraz rysunek poziomic tej funkcji. Tak jak poniżej\n",
    "\n",
    "![alt text](kol02_pytania/images/image04.png \"obrazek\")\n",
    "\n",
    "![alt text](kol02_pytania/images/image05.png \"obrazek\")"
   ]
  },
  {
   "cell_type": "markdown",
   "metadata": {},
   "source": [
    "Rozwiązania studentów"
   ]
  },
  {
   "cell_type": "code",
   "execution_count": null,
   "metadata": {},
   "outputs": [],
   "source": [
    "import numpy as np\n",
    "import matplotlib.pyplot as plt\n",
    "from mpl_toolkits.mplot3d import Axes3D\n",
    "from matplotlib import cm\n",
    "\n",
    "%matplotlib inline\n",
    "x = np.arange(-3.0, 3.0, 0.01)\n",
    "y = np.arange(-3.0, 3.0, 0.01)\n",
    "\n",
    "X, Y = np.meshgrid(x, y)\n",
    "zs = np.array([x * x - y * y for x, y in zip(np.ravel(X), np.ravel(Y))])\n",
    "Z = zs.reshape(X.shape)\n",
    "\n",
    "fig = plt.figure()\n",
    "ax = fig.add_subplot(111, projection='3d')\n",
    "\n",
    "ax.plot_surface(X, Y, Z, cmap=cm.viridis)\n",
    "\n"
   ]
  },
  {
   "cell_type": "code",
   "execution_count": null,
   "metadata": {},
   "outputs": [],
   "source": [
    "plt.contourf(X, Y, Z, cmap=cm.viridis)"
   ]
  },
  {
   "cell_type": "markdown",
   "metadata": {},
   "source": [
    "## Zadanie 9 (hard)\n",
    "We wczytanym poniżej zbiorze danych imion wypisz wszystkie imiona, których pod względem częstości występowania jest najwięcej, najmniej i te których jest dokładnie tyle ile wynosi mediana wystąpień. W rozwiązaniu użyj pakietu `pandas`\n",
    "\n",
    "Dane możesz wczytać wykorzystując poniższy kod\n",
    "\n",
    "```python\n",
    "import pandas as pd\n",
    "\n",
    "df = pd.read_csv('https://raw.githubusercontent.com/guipsamora/pandas_exercises/master/06_Stats/\\\n",
    "US_Baby_Names/US_Baby_Names_right.csv')\n",
    "```"
   ]
  },
  {
   "cell_type": "code",
   "execution_count": 6,
   "metadata": {},
   "outputs": [
    {
     "name": "stdout",
     "output_type": "stream",
     "text": [
      "['Aadarsh' 'Aadin' 'Aaima' ... 'Zykeriah' 'Zykierra' 'Zymari']\n",
      "['Jacob']\n",
      "         Count\n",
      "Name          \n",
      "Aishani     49\n",
      "Alara       49\n",
      "Alysse      49\n",
      "Ameir       49\n",
      "Anely       49\n",
      "...        ...\n",
      "Sriram      49\n",
      "Trinton     49\n",
      "Vita        49\n",
      "Yoni        49\n",
      "Zuleima     49\n",
      "\n",
      "[66 rows x 1 columns]\n"
     ]
    },
    {
     "name": "stderr",
     "output_type": "stream",
     "text": [
      "/var/folders/xh/7q_pyjm16ks_m5x6b_59zgk40000gn/T/ipykernel_95714/2758385152.py:7: FutureWarning: The default value of numeric_only in DataFrameGroupBy.sum is deprecated. In a future version, numeric_only will default to False. Either specify numeric_only or select only columns which should be valid for the function.\n",
      "  names = df.groupby('Name').sum()\n"
     ]
    }
   ],
   "source": [
    "import pandas as pd\n",
    "\n",
    "df = pd.read_csv('https://raw.githubusercontent.com/guipsamora/pandas_exercises/master/06_Stats/\\\n",
    "US_Baby_Names/US_Baby_Names_right.csv')\n",
    "\n",
    "df = df.drop('Year', axis=1).drop('Unnamed: 0', axis=1).drop('Id', axis=1)\n",
    "names = df.groupby('Name').sum()\n",
    "\n",
    "# min\n",
    "print(names[names.Count == names.Count.min()].index.values)\n",
    "\n",
    "# max\n",
    "print(names[names.Count == names.Count.max()].index.values)\n",
    "\n",
    "# median\n",
    "print(names[names.Count == names.Count.median()])"
   ]
  },
  {
   "cell_type": "code",
   "execution_count": 5,
   "metadata": {},
   "outputs": [
    {
     "name": "stdout",
     "output_type": "stream",
     "text": [
      "Najczęściej występujące imię: Riley\n",
      "Najrzadziej występujące imię: Grettell\n",
      "Imiona występujące dokładnie tyle razy, ile wynosi mediana wystąpień: ['Oluwatobi', 'Evanna', 'Rasheen', 'Amer', 'Lukasz', 'Clarity', 'Han', 'Jelissa', 'Eliya', 'Emmaly', 'Tovia', 'Emelly', 'Keigan', 'Elizaveta', 'Mattox', 'Janeli', 'Esli', 'Izek', 'Jazmynn', 'Irena', 'Eliora', 'Jennalyn', 'Leni', 'Cypress', 'Andriana', 'Ezekial', 'Lucila', 'Darling', 'Nicodemus', 'Saketh', 'Kaiyah', 'Jacquelyne', 'Mechel', 'Johnatan', 'Monty', 'Riot', 'Otoniel', 'Aran', 'Augusto', 'Adylene', 'Triana', 'Candelario', 'Shelsy', 'Rebecka', 'Dalyn', 'Codey', 'Naraly', 'Elliotte', 'Mariann', 'Yaira', 'Skylie', 'Ayannah', 'Kunal', 'Eliab', 'Dillinger', 'Nyree', 'Issaiah', 'Maika', 'Jalani', 'Leighann', 'Jonnathan', 'Alara', 'Azlyn', 'Jakhari', 'Tuff', 'Aristeo', 'Fishel', 'Texas', 'Elizah', 'Adelie', 'Judas', 'Edgard', 'Eladio', 'Daphnie', 'Azure', 'Yoni', 'Lamiya', 'Irais', 'Milca', 'Lucus', 'Tal', 'Nakai', 'Nishant', 'Katelynne', 'Rahman', 'Ram', 'Sayed', 'Sabino', 'Zyanna', 'Ryatt', 'Maurilio', 'Nazar', 'Romi', 'Anyiah', 'Lowell', 'Sathvik', 'Dagan', 'Willian', 'Yakira', 'Embry', 'Ayumi', 'Alon', 'Artur', 'Sabria', 'Anshul', 'Lucienne', 'Leylanie', 'Lacee', 'Yuliza', 'Cecile', 'Kathlyn', 'Caydon', 'Chazz', 'Kaelee', 'Jakori', 'Nalleli', 'Kaliana', 'Fidencio', 'Favio', 'Khaliq', 'Rubin', 'Jeilyn', 'Thaily', 'Princesa', 'Joni', 'Thai', 'Tj', 'Hasani', 'Vlad', 'Che', 'Lilinoe', 'Curran', 'Seriah', 'Nazier', 'Saydie', 'Jamarkus', 'Gaurav', 'Thierno', 'Anthoni', 'Hari', 'Kamaile', 'Crista', 'Makeyla', 'Lottie', 'Leslee', 'Audryna', 'Marwan', 'Zanaya', 'Zamaya', 'Hanad', 'Sire', 'Kenzlie', 'Ediel', 'Yug', 'Yunuen', 'Yanuel', 'Graycen', 'Suki', 'Cylas', 'Rebel', 'Nataniel', 'Srinidhi', 'Aidric', 'Keeton', 'Pandora', 'Noora', 'Stoney', 'Kaeson', 'Nanci', 'Jamaree', 'Noura', 'Waseem', 'Miki', 'Akari', 'Karena', 'Yonis', 'Mckenzee', 'Braidyn', 'Chrissy', 'Yaritzi', 'Meleah', 'Kemya', 'Atley', 'Xitlalli', 'Jaiven', 'Mehdi', 'Mycah', 'Denisha', 'Deseray', 'Amaryllis', 'Odelia', 'Alin', 'Amyri', 'Shelsea', 'Trinton', 'Ramone', 'Marquell', 'Iriana', 'Kayliana', 'Lavern', 'Ivett', 'Ridwan', 'Alliana', 'Treshaun', 'Julieana', 'Metztli', 'Hajar', 'Envy', 'Mariaclara', 'Woodrow', 'Azan', 'Mouhamadou', 'Suhaylah', 'Jayani', 'Annel', 'Annahi', 'Daleysa', 'Bea', 'Alysse', 'Alyn', 'Audrinna', 'Armonie', 'Kayly', 'Kaileen', 'Keylen', 'Jakia', 'Aleana', 'Taisha', 'Kasie', 'Yliana', 'Jeniyah', 'Sundus', 'Gaelle', 'Signe', 'Reniyah', 'Jesslynn', 'Zakia', 'Kimia', 'Camiya', 'Nechuma', 'Avree', 'Anely', 'Breydon', 'Cordero', 'Maysen', 'Chastelyn', 'Yudith', 'Railynn', 'Alazay', 'Elky', 'Jakya', 'Dayonna', 'Jaice', 'Elianah', 'Mikko', 'Sumaiya', 'Xzander', 'Jeyden', 'Hafsah', 'Harli', 'Ivyonna', 'Ameir', 'Gardenia', 'Hiliana', 'Dua', 'Adira', 'Kinsler', 'Rufus', 'Ivyanna', 'Briyana', 'Lilianne', 'Ndeye', 'Jediah', 'Yanni', 'Blakelyn', 'Kimberlynn', 'Jaylynne', 'Kristoffer', 'Joshue', 'Kyndle', 'Maleia', 'Ranveer', 'Kaio', 'Thierry', 'Ysabelle', 'Makynlee', 'Jakelyn', 'Egan', 'Pasquale', 'Levin', 'Meliah', 'Andrae', 'Madix', 'Morrison', 'Juel', 'Mckinsey', 'Kynnedy', 'Chani', 'Kenli', 'Darvin', 'Bentleigh', 'Dashel', 'Vanna', 'Aerial', 'Larson', 'Mackinzie', 'Yared', 'Theodor', 'Aleksey', 'Lenna', 'Erma', 'Polly', 'Sarayu', 'Keldrick', 'Ambree', 'Nassir', 'Alder', 'Shakir', 'Abubakar', 'Konstantin', 'Alaiya', 'Zari', 'Lysander', 'Jatziri', 'Dominika', 'Tanush', 'Baily', 'Malin', 'Joah', 'Brevin', 'Jenica', 'Marlenne', 'Talin', 'Riddhi', 'Isrrael', 'Jannelle', 'Yishai', 'Itzell', 'Yvanna', 'Athalia', 'Lavelle', 'Zaylie', 'Baleria', 'Bellah', 'Azaleah', 'Fay', 'Lovina', 'Neko', 'Sayler', 'Auriana', 'Eesa', 'Katiana', 'Homer', 'Arwa', 'Arsema', 'Jian', 'Aziah', 'Berlynn', 'Cezar', 'Siyona']\n"
     ]
    }
   ],
   "source": [
    "import pandas as pd\n",
    "\n",
    "# Wczytanie danych\n",
    "\n",
    "# Najczęściej występujące imię\n",
    "most_common_name = df['Name'].value_counts().idxmax()\n",
    "\n",
    "# Najrzadziej występujące imię\n",
    "least_common_name = df['Name'].value_counts().idxmin()\n",
    "\n",
    "# Imiona występujące dokładnie tyle razy, ile wynosi mediana\n",
    "median_frequency_names = df['Name'].value_counts()[df['Name'].value_counts() == df['Name'].value_counts().median()].index.tolist()\n",
    "\n",
    "# Wyświetlenie wyników\n",
    "print(\"Najczęściej występujące imię:\", most_common_name)\n",
    "print(\"Najrzadziej występujące imię:\", least_common_name)\n",
    "print(\"Imiona występujące dokładnie tyle razy, ile wynosi mediana wystąpień:\", median_frequency_names)\n"
   ]
  },
  {
   "cell_type": "markdown",
   "metadata": {},
   "source": [
    "## Zadanie 8 (hard)\n",
    "Zwizualizuj poniższą próbkę danych na 3 wykresach na jedne figurze (plt.figure), na pierwszym ma się znaleźć histogram wartości pierwszego wymiaru z próbki, na drugim wylosowane punkty na płaszczyźnie, na trzecim histogram wartości drugiego wymiaru.\n",
    "\n",
    "```python\n",
    "import matplotlib.pyplot as plt\n",
    "%matplotlib inline\n",
    "import numpy as np\n",
    "\n",
    "X = np.random.multivariate_normal(mean=[0, 0], cov=[[1, 0.5], [0.5, 1]], size=1000)\n",
    "```\n",
    "\n",
    "Postaraj się osiągnąć efekt zbliżony do:\n",
    "\n",
    "![alt text](kol02_pytania/images/image02.png \"obrazek\")"
   ]
  },
  {
   "cell_type": "markdown",
   "metadata": {},
   "source": [
    "Rozwiązania studentów"
   ]
  },
  {
   "cell_type": "code",
   "execution_count": null,
   "metadata": {
    "collapsed": true,
    "jupyter": {
     "outputs_hidden": true
    }
   },
   "outputs": [],
   "source": [
    "import matplotlib.pyplot as plt\n",
    "%matplotlib inline\n",
    "import numpy as np\n",
    "\n",
    "X = np.random.multivariate_normal(mean=[0, 0], cov=[[1, 0.5], [0.5, 1]], size=1000)"
   ]
  },
  {
   "cell_type": "code",
   "execution_count": null,
   "metadata": {},
   "outputs": [],
   "source": [
    "import matplotlib.pyplot as plt\n",
    "# %matplotlib inline\n",
    "import numpy as np\n",
    "\n",
    "\n",
    "X = np.random.multivariate_normal(mean=[0, 0], cov=[[1, 0.5], [0.5, 1]], size=1000)\n",
    "\n",
    "plt.subplot(331)\n",
    "plt.hist(X[:, 0])\n",
    "\n",
    "plt.subplot(332)\n",
    "plt.scatter(X[:, 0], X[:, 1])\n",
    "\n",
    "plt.subplot(333)\n",
    "plt.hist(X[:, 1])\n",
    "\n",
    "plt.show()\n"
   ]
  },
  {
   "cell_type": "markdown",
   "metadata": {},
   "source": [
    "## Zadanie 17 (medium)\n",
    "Przepisz poniższą funkcję aby działała około 100 razy szybciej dla zadanego wektora `x`\n",
    "\n",
    "```python\n",
    "import numpy as np\n",
    "\n",
    "def m_sin(x):\n",
    "    r = np.zeros_like(x) \n",
    "    for i in range(len(x)):\n",
    "        r[i] = np.sin(x[i])\n",
    "    return r\n",
    "\n",
    "x = np.linspace(0, 1, 1000000)\n",
    "\n",
    "```"
   ]
  },
  {
   "cell_type": "code",
   "execution_count": null,
   "metadata": {
    "collapsed": true,
    "jupyter": {
     "outputs_hidden": true
    }
   },
   "outputs": [],
   "source": [
    "import numpy as np\n",
    "def m_sin(x):\n",
    "    r = np.zeros_like(x) \n",
    "    for i in range(len(x)):\n",
    "        r[i] = np.sin(x[i])\n",
    "    return r\n",
    "\n",
    "x = np.linspace(0, 1, 1000000)"
   ]
  },
  {
   "cell_type": "code",
   "execution_count": null,
   "metadata": {},
   "outputs": [],
   "source": [
    "%timeit m_sin(x)"
   ]
  },
  {
   "cell_type": "markdown",
   "metadata": {},
   "source": [
    "Rozwiązania studentów"
   ]
  },
  {
   "cell_type": "code",
   "execution_count": null,
   "metadata": {
    "collapsed": true,
    "jupyter": {
     "outputs_hidden": true
    }
   },
   "outputs": [],
   "source": [
    "import numpy as np\n",
    "\n",
    "def m_sin(x):\n",
    "    return np.sin(x)"
   ]
  },
  {
   "cell_type": "code",
   "execution_count": null,
   "metadata": {},
   "outputs": [],
   "source": [
    "%timeit m_sin(x)"
   ]
  },
  {
   "cell_type": "markdown",
   "metadata": {},
   "source": [
    "Rozwiązania studentów"
   ]
  },
  {
   "cell_type": "markdown",
   "metadata": {},
   "source": [
    "## Zadanie 22 (easy)\n",
    "Jak zoptymalizować działanie poniższej pętli, tak aby czas jej działania skrócił się znacząco\n",
    "\n",
    "```python\n",
    "from math import sin\n",
    "\n",
    "def loop(num):\n",
    "    result = 0\n",
    "    for i in range(num):\n",
    "        result += i * sin(num)\n",
    "    return result\n",
    "```\n",
    "\n",
    "W testach czas dla `num = 100000` skrócił się z 20.6 ms do  5.56 ms."
   ]
  },
  {
   "cell_type": "markdown",
   "metadata": {},
   "source": [
    "Rozwiązania studentów"
   ]
  },
  {
   "cell_type": "code",
   "execution_count": null,
   "metadata": {
    "collapsed": true,
    "jupyter": {
     "outputs_hidden": true
    }
   },
   "outputs": [],
   "source": [
    "def loop(num):\n",
    "    sinus = sin(num)\n",
    "    return (sum(x* sinus) for x in range(0, num))"
   ]
  },
  {
   "cell_type": "code",
   "execution_count": null,
   "metadata": {},
   "outputs": [],
   "source": [
    "%timeit loop(100000)"
   ]
  },
  {
   "cell_type": "markdown",
   "metadata": {},
   "source": [
    "## Zadanie 18 (medium)\n",
    "Przygotuj wykres będący zwieńczeniem poniższego kodu\n",
    "\n",
    "```python\n",
    "import numpy as np\n",
    "import matplotlib.pyplot as plt\n",
    "from numpy import exp, sin, cos\n",
    "\n",
    "def g(y):\n",
    "    return exp(-y)*cos(5*y)\n",
    "\n",
    "def h(y):\n",
    "    return exp(-(3./4)*y)*cos(2*y)\n",
    "\n",
    "y = np.linspace(0, 10, 1001)\n",
    "```\n",
    "\n",
    "w Twoim rozwiązaniu postaraj się zbliżyć do\n",
    "\n",
    "![alt text](kol02_pytania/images/image03.png \"obrazek\")"
   ]
  },
  {
   "cell_type": "code",
   "execution_count": null,
   "metadata": {
    "collapsed": true,
    "jupyter": {
     "outputs_hidden": true
    }
   },
   "outputs": [],
   "source": [
    "import numpy as np\n",
    "import matplotlib.pyplot as plt\n",
    "from numpy import exp, sin, cos\n",
    "\n",
    "def g(y):\n",
    "    return exp(-y)*cos(5*y)\n",
    "\n",
    "def h(y):\n",
    "    return exp(-(3./4)*y)*cos(2*y)\n",
    "\n",
    "y = np.linspace(0, 10, 1001)\n",
    "\n",
    "# Zakres wartości y\n",
    "y = np.linspace(0, 10, 1001)\n",
    "\n",
    "# Wygeneruj wykres dla funkcji g(y)\n",
    "plt.figure()\n",
    "# plt.subplot(1, 2, 1)\n",
    "plt.plot(y, g(y), label='g(y)')\n",
    "plt.title('Wykres funkcji g(y)')\n",
    "plt.xlabel('y')\n",
    "plt.ylabel('g(y)')\n",
    "plt.legend()\n",
    "\n",
    "# Wygeneruj wykres dla funkcji h(y)\n",
    "# plt.subplot(1, 2, 2)\n",
    "plt.plot(y, h(y), label='h(y)', color='orange')\n",
    "plt.title('Wykres funkcji h(y)')\n",
    "plt.xlabel('y')\n",
    "plt.ylabel('h(y)')\n",
    "plt.legend()\n",
    "\n",
    "# Wyświetl wykresy\n",
    "plt.show()\n",
    "## Rozwiązania studentów"
   ]
  },
  {
   "cell_type": "code",
   "execution_count": null,
   "metadata": {
    "collapsed": true,
    "jupyter": {
     "outputs_hidden": true
    }
   },
   "outputs": [],
   "source": [
    "import numpy as np\n",
    "import matplotlib.pyplot as plt\n",
    "from numpy import exp, sin, cos\n",
    "\n",
    "def g(y):\n",
    "    return exp(-y)*cos(5*y)\n",
    "\n",
    "def h(y):\n",
    "    return exp(-(3./4)*y)*cos(2*y)\n",
    "\n",
    "y = np.linspace(0, 10, 1001)"
   ]
  },
  {
   "cell_type": "code",
   "execution_count": null,
   "metadata": {},
   "outputs": [],
   "source": [
    "plt.figure()\n",
    "plt.title('Wykres funkcji g i h')\n",
    "plt.xlabel('$y$')\n",
    "plt.ylabel('$g(y), h(y)$')\n",
    "# dodanie legendy\n",
    "plt.plot(y,g(y), 'r', label=r'g')\n",
    "plt.plot(y,h(y), '--k', label='h')\n",
    "plt.legend(loc='upper right') # pozycja legendy\n",
    "plt.show()\n"
   ]
  },
  {
   "cell_type": "markdown",
   "metadata": {},
   "source": [
    "## Zadanie 15 (medium)\n",
    "Napisz program, który dla zadanej liczby naturalnej `n` wygeneruje macierze zwierającą wszystkie liczby od `0` do `n-1`, np. dla `n=100` mamy\n",
    "```python\n",
    "[[ 0  1  2  3  4  5  6  7  8  9]\n",
    " [10 11 12 13 14 15 16 17 18 19]\n",
    " [20 21 22 23 24 25 26 27 28 29]\n",
    " [30 31 32 33 34 35 36 37 38 39]\n",
    " [40 41 42 43 44 45 46 47 48 49]\n",
    " [50 51 52 53 54 55 56 57 58 59]\n",
    " [60 61 62 63 64 65 66 67 68 69]\n",
    " [70 71 72 73 74 75 76 77 78 79]\n",
    " [80 81 82 83 84 85 86 87 88 89]\n",
    " [90 91 92 93 94 95 96 97 98 99]]\n",
    "```\n",
    "Macierz zostanie wygenerowana tylko, gdy `n` jest kwadratem jakiejś liczby w przeciwnym przypadku zostanie rzucony wyjątek `ValueError`.\n",
    "```python\n",
    "def matrix(n):\n",
    "    pass\n",
    "```"
   ]
  },
  {
   "cell_type": "code",
   "execution_count": null,
   "metadata": {
    "collapsed": true,
    "jupyter": {
     "outputs_hidden": true
    }
   },
   "outputs": [],
   "source": [
    "import numpy as np\n",
    "import math \n",
    "def matrix(n):\n",
    "    sqr_n = math.sqrt(n)\n",
    "    if sqr_n.is_integer:\n",
    "        sqr_n = int(sqr_n)\n",
    "        return np.arange(n).reshape(sqr_n, sqr_n)\n",
    "    else:\n",
    "        raise ValueError\n",
    "print(np.array_equal(matrix(4),np.array([[0, 1],[2, 3]])))\n",
    "# matrix(5) # rzuci wyjątek ValueError\n",
    "print(np.array_equal(matrix(16), np.array([[ 0,  1,  2,  3], [ 4,  5,  6,  7], [ 8,  9, 10, 11],[12, 13, 14, 15]])))"
   ]
  },
  {
   "cell_type": "markdown",
   "metadata": {},
   "source": [
    "Rozwiązania studentów"
   ]
  },
  {
   "cell_type": "code",
   "execution_count": null,
   "metadata": {},
   "outputs": [],
   "source": [
    "import numpy as np\n",
    "def matrix(n):\n",
    "    w = np.sqrt(n)\n",
    "    if int(w) != w:\n",
    "        raise ValueError()\n",
    "    w = int(w)\n",
    "    return np.arange(0, n).reshape(w, w)\n",
    "print(np.array_equal(matrix(4),np.array([[0, 1],[2, 3]])))\n",
    "try:\n",
    "    matrix(5) # rzuci wyjątek ValueError\n",
    "except:\n",
    "    print('ok')\n",
    "print(np.array_equal(matrix(16), np.array([[ 0,  1,  2,  3], [ 4,  5,  6,  7], [ 8,  9, 10, 11],[12, 13, 14, 15]])))"
   ]
  },
  {
   "cell_type": "markdown",
   "metadata": {},
   "source": [
    "## Zadanie 2 (easy)\n",
    "Napisz funkcję która będzie rozwiązywać problem najmnijszych kwadratów. Matematycznie rozwiązanie tego problemu to:\n",
    "$$ (X^TX)^{-1}X^Tb $$\n",
    "\n",
    "Nie wolno korzystać z funkcji `pinv` ani funkcji bezpośrednio rozwiązujących ten problem.\n",
    "\n",
    "```python\n",
    "import numpy as np\n",
    "\n",
    "def lsq(X, b):\n",
    "    pass\n",
    "```"
   ]
  },
  {
   "cell_type": "code",
   "execution_count": null,
   "metadata": {
    "collapsed": true,
    "jupyter": {
     "outputs_hidden": true
    }
   },
   "outputs": [],
   "source": [
    "import numpy as np\n",
    "from numpy.linalg import inv\n",
    "def lsq(X, b):\n",
    "    X = np.matrix(X)\n",
    "    b = np.matrix(b).T\n",
    "    return np.ravel((X.T*X)**-1 * (X.T*b))\n",
    "\n",
    "X = np.array([[1, 2], [2, 3], [4, 4]])\n",
    "b = [1, 2, 3]\n",
    "print(np.isclose(lsq(X, b), [0.39393939,0.36363636]))\n",
    "\n",
    "X = np.array([[1, -1], [0, 3], [4, 4]])\n",
    "b = [1, 2, 2]\n",
    "print(np.isclose(lsq(X, b), [ 0.1797235,0.39631336]))"
   ]
  },
  {
   "cell_type": "markdown",
   "metadata": {},
   "source": [
    "Rozwiązania studentów"
   ]
  },
  {
   "cell_type": "code",
   "execution_count": null,
   "metadata": {},
   "outputs": [],
   "source": [
    "def lsq(X, b):\n",
    "    X = np.matrix(X)\n",
    "    b = np.matrix(b).T\n",
    "    return np.ravel(((X.T * X) ** -1) * (X.T * b))\n",
    "X = np.array([[1, 2], [2, 3], [4, 4]])\n",
    "b = [1, 2, 3]\n",
    "print(np.isclose(lsq(X, b), [0.39393939,0.36363636]))\n",
    "\n",
    "X = np.array([[1, -1], [0, 3], [4, 4]])\n",
    "b = [1, 2, 2]\n",
    "print(np.isclose(lsq(X, b), [ 0.1797235,0.39631336]))"
   ]
  },
  {
   "cell_type": "markdown",
   "metadata": {},
   "source": [
    "## Zadanie 7 (medium)\n",
    "Wylosuj z dwóch różnych rozkładów normlanych o odchyleniu standardowym 1 i średnich odpowiednio -1 i 1 po 1000 liczb, następnie zwizaulizuj te dwie próbki na jednym wykresie za pomocą histogramów, różnymi kolorami, tak aby była wyraźnie widoczna część wspólna dwóch histogramów.\n",
    "\n",
    "Osiągnij wynik zbliżony do następujacego\n",
    "![alt text](kol02_pytania/images/image01.png \"obrazek\")\n",
    "\n",
    "W rozwiązaniu podaj procedurę generującą wykres. Możesz wykorzystać:\n",
    "\n",
    "```python\n",
    "import matplotlib.pyplot as plt\n",
    "%matplotlib inline\n",
    "import numpy as np\n",
    "```"
   ]
  },
  {
   "cell_type": "code",
   "execution_count": null,
   "metadata": {},
   "outputs": [],
   "source": [
    "import matplotlib.pyplot as plt\n",
    "\n",
    "sample1 = np.random.randn(1000) - 1\n",
    "sample2 = np.random.randn(1000) + 1\n",
    "\n",
    "a = np.random.normal(loc=-1, scale=1, size=1000)\n",
    "b = np.random.normal(loc=1, scale=1, size=1000)\n",
    "\n",
    "plt.hist(a)\n",
    "plt.hist(b, alpha = 0.6)\n",
    "plt.show()\n"
   ]
  },
  {
   "cell_type": "markdown",
   "metadata": {},
   "source": [
    "## Zadanie 6 (easy)\n",
    "Używając biblioteki **numpy** zaimplementuj funckje `normalize_rows`, która normalizuje wiersze macierzy tak by każdy z nich miał normę euklidesową 1. Możesz użyć funckji `numpy.linalg.norm`. Następnie wylosuj macierz z wartościami z przedziału `[0,1]` o 20 wierszach i 5 kolumnach i znormalizuj ją swoją funkcją.\n",
    "\n",
    "```python\n",
    "import numpy as np\n",
    "\n",
    "def normalize_rows(X):\n",
    "    pass\n",
    "```"
   ]
  },
  {
   "cell_type": "code",
   "execution_count": null,
   "metadata": {
    "collapsed": true,
    "jupyter": {
     "outputs_hidden": true
    }
   },
   "outputs": [],
   "source": [
    "def normalize_rows(X):\n",
    "   return X/np.linalg.norm(X, keepdims = True)\n",
    "\n",
    "X = np.random.rand(20,5) # uzupełnij zgodnie z treścią zadania\n",
    "X_norm = normalize_rows(X)\n",
    "\n",
    "print(all((np.linalg.norm(X_norm, axis=1) - np.ones(20)) < 1e-8))"
   ]
  },
  {
   "cell_type": "markdown",
   "metadata": {},
   "source": [
    "Rozwiązania studentów"
   ]
  },
  {
   "cell_type": "code",
   "execution_count": null,
   "metadata": {},
   "outputs": [],
   "source": [
    "def normalize_rows(X):\n",
    "    row_sums = X.sum(axis=1)\n",
    "    return X / row_sums[:, np.newaxis]\n",
    "\n",
    "X = np.random.rand(20, 5)\n",
    "X_norm = normalize_rows(X)\n",
    "\n",
    "print(all((np.linalg.norm(X_norm, axis=1) - np.ones(20)) < 1e-8))"
   ]
  },
  {
   "cell_type": "code",
   "execution_count": null,
   "metadata": {},
   "outputs": [],
   "source": [
    "import numpy as np\n",
    "\n",
    "# zwraca ślad macierzy 2D\n",
    "def get_trace(array):\n",
    "  return np.trace(array)\n",
    "\n",
    "\n",
    "import numpy as np\n",
    "\n",
    "def outer_product(vec1, vec2):\n",
    "    return np.outer(vec1, vec2)\n",
    "\n",
    "  # fcja zwraca produkt zewnętrzny dwóch wektorów\n",
    "\n",
    "def get_common(arr1, arr2):\n",
    "  # funcja zwraca unikalne wspólne elementy dwóch wektorów (te same elementy na tych samych pozycjach)\n",
    "  return np.unique(arr1[arr1 == arr2])\n",
    "\n",
    "  import pandas as pd\n",
    "\n",
    "def series_uppercase(series):\n",
    "    return series.str.capitalize()\n",
    "  # zwraca Series, w którym każdy element zaczyna się wielką literą\n",
    "\n",
    "\n",
    "class FunCount(object):\n",
    "    # uzupełnij kod klasy tak, żeby obiekt \"dekorował\" funkcje i liczył jej wywołania\n",
    "    cnt = 0\n",
    "    def __init__(self, f):\n",
    "        self.cnt = 0\n",
    "        self.f = f\n",
    "    def __call__(self, *args):\n",
    "        self.cnt = self.cnt + 1\n",
    "        return sum([arg for arg in args])\n",
    "    def __str__(self):\n",
    "        return '\"fun\" was called {} times.'.format(self.cnt)\n",
    "\n",
    "def add_min_max(df):\n",
    "   df['max'] = df[[0, 1, 2, 3]].max(axis=1)\n",
    "   df['min'] = df[[0, 1, 2, 3]].min(axis=1)\n",
    "  # fcja dodaje kolumny 'min' oraz 'max' zawierające minumum i maksimum każdego wiersza\n",
    "ZAPIERDALA\n",
    "\n",
    "\n",
    "# zwraca elementy serii na pozycjach pos\n",
    "\n",
    "def get_series_at_positions(series, pos):\n",
    "  return series.loc[pos]\n",
    "\n",
    "  class A(object):\n",
    "    # uzupełnij kod klasy tak, aby w polu cnt była liczba utworzonych obiektów tej klasy\n",
    "    cnt = 0\n",
    "    def __init__(self):\n",
    "        A.cnt += 1\n",
    "        self.id = A.cnt\n",
    "\n",
    "\n",
    "\n",
    "# narysuj wykres oraz zaznacz minima i maksima lokalne tak jak na rysunku\n",
    "from scipy.signal import argrelextrema\n",
    "def plot_points(X):\n",
    "  df = pd.DataFrame(X, columns=['data'])\n",
    "  n = 2\n",
    "  df['min'] = df.iloc[argrelextrema(df.data.values, np.less_equal,\n",
    "                    order=n)[0]]['data']\n",
    "  df['max'] = df.iloc[argrelextrema(df.data.values, np.greater_equal,\n",
    "                    order=n)[0]]['data']\n",
    "\n",
    "  # Plot results\n",
    "\n",
    "  plt.scatter(df.index, df['min'], c='r')\n",
    "  plt.scatter(df.index, df['max'], c='g')\n",
    "  plt.plot(df.index, df['data'])\n",
    "  plt.show()\n",
    "\n",
    "steps = [-1,+1]\n",
    "walk = np.random.choice(steps, 200).cumsum()\n",
    "\n",
    "plot_points(walk)\n",
    "\n",
    "# niby lepsze od tego wyzej\n",
    "def rescale(X):\n",
    "    return X / X.sum(axis=1)[:, np.newaxis]\n",
    "\n",
    "\n",
    "\n",
    "# def plot_log(x, y):\n",
    "\n",
    "#     plt.plot(x,y)\n",
    "#     plt.yscale('log')\n",
    "#     plt.show()\n",
    "\n",
    "def plot_log(x, y):\n",
    "  plt.plot(x,y)\n",
    "  plt.xlabel('x')\n",
    "  plt.ylabel('$e^x$')\n",
    "  plt.yscale('log')\n",
    "  plt.show()\n",
    "\n",
    "\n",
    "\n",
    "def get_union(arr1, arr2):\n",
    "  # fcja zwraca iloczyn mnogościowy dwóch wektorów\n",
    "  return list(set(arr1).intersection(arr2))\n",
    "\n",
    "\n",
    "def mirror(arr):\n",
    "    return np.flip(arr, axis=None)\n",
    "  # fcja odbija elementy macierzy wzgl. \"drugiej\" przekątnej.\n",
    "\n",
    "\n",
    "import pandas as pd\n",
    "\n",
    "def series_difference(series1, series2):\n",
    "  # zwraca różnicę mnogościową dwóch serii\n",
    "  result = []\n",
    "  for i in series1.values:\n",
    "    if i not in series2.values:\n",
    "      result.append(i)\n",
    "      \n",
    "  return result\n",
    "\n",
    "\n",
    "def mirror(arr):\n",
    "  # fcja odbija elementy macierzy wzgl. \"drugiej\" przekątnej.\n",
    "  return np.rot90(np.rot90(np.rot90(np.fliplr(arr))))\n"
   ]
  }
 ],
 "metadata": {
  "kernelspec": {
   "display_name": "Python 3 (ipykernel)",
   "language": "python",
   "name": "python3"
  },
  "language_info": {
   "codemirror_mode": {
    "name": "ipython",
    "version": 3
   },
   "file_extension": ".py",
   "mimetype": "text/x-python",
   "name": "python",
   "nbconvert_exporter": "python",
   "pygments_lexer": "ipython3",
   "version": "3.11.4"
  }
 },
 "nbformat": 4,
 "nbformat_minor": 4
}
